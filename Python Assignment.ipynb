{
 "cells": [
  {
   "cell_type": "code",
   "execution_count": null,
   "id": "76b5e8dc-307a-49de-a8da-e0f7d93969f1",
   "metadata": {},
   "outputs": [],
   "source": [
    "Q1.What is Python, and why is it popular ?\n",
    "A:- Python is a programming language that is easy to understand and write, making it a popular choice among developers and programmers.\n",
    "Its is popular because:-\n",
    "1. Slimplicity and ease of learing\n",
    "2.Versatility and wide range of application\n",
    "3.Thirving community and ecosystem \n",
    "4. Backed by big companies - Like Google and Facebook\n",
    "In short: simple syntax + powerful feature = python popularity .\n",
    "\n",
    "Q2.What is an interpreter in Python ?\n",
    "A:-Interpreter in python is a program that reads and runs code line by line .\n",
    "Example:- a =2\n",
    "           b=3\n",
    "           a + b = 5\n",
    "\n",
    "Q3. What are pre-defined keywords in Python ?\n",
    "A:-Keywords are special resvered words in python that have a specific meaning . You can't use them as variable name .\n",
    "Example of Python Key words :\n",
    "if , else , elif ,def , return , import , true , false none class , try not , etc.\n",
    "\n",
    "Q4. 8 Can keywords be used as variable names ?\n",
    "A: NO , a key word cannot be used as a variable in python .\n",
    "Because key have special meaning in python . Using them as variable name will cause an error .\n",
    "if = 10 \n",
    "\n",
    "Q5 .  What is mutability in Python ?\n",
    "A: Mutable objects can be modified after creation .\n",
    "Such as lists and dictionaries. \n",
    "Q6.Why are lists mutable, but tuples are immutable ?\n",
    "A: Because of their design :\n",
    "- List are meant to store and change data that's why they are mutable .\n",
    " - Tuple are meant to be fixed and safe that's why ther are immutable .\n"
   ]
  },
  {
   "cell_type": "code",
   "execution_count": null,
   "id": "10776eea-0e92-4056-8844-215a87f28305",
   "metadata": {},
   "outputs": [],
   "source": []
  },
  {
   "cell_type": "code",
   "execution_count": 1,
   "id": "728e2ee8-b800-4c6f-939b-8ea8401b9a6a",
   "metadata": {},
   "outputs": [
    {
     "name": "stdout",
     "output_type": "stream",
     "text": [
      "[10, 2, 3]\n"
     ]
    }
   ],
   "source": [
    "# example of list\n",
    "my_list = [ 1 , 2 , 3 ]\n",
    "my_list [0] = 10\n",
    "print(my_list)"
   ]
  },
  {
   "cell_type": "code",
   "execution_count": 2,
   "id": "7f0b47f0-5e49-401b-903a-ca57e1782698",
   "metadata": {},
   "outputs": [
    {
     "ename": "TypeError",
     "evalue": "'tuple' object does not support item assignment",
     "output_type": "error",
     "traceback": [
      "\u001b[31m---------------------------------------------------------------------------\u001b[39m",
      "\u001b[31mTypeError\u001b[39m                                 Traceback (most recent call last)",
      "\u001b[36mCell\u001b[39m\u001b[36m \u001b[39m\u001b[32mIn[2]\u001b[39m\u001b[32m, line 3\u001b[39m\n\u001b[32m      1\u001b[39m \u001b[38;5;66;03m# example of tuple \u001b[39;00m\n\u001b[32m      2\u001b[39m my_tuple = ( \u001b[32m1\u001b[39m,\u001b[32m2\u001b[39m,\u001b[32m3\u001b[39m)\n\u001b[32m----> \u001b[39m\u001b[32m3\u001b[39m \u001b[43mmy_tuple\u001b[49m\u001b[43m[\u001b[49m\u001b[32;43m0\u001b[39;49m\u001b[43m]\u001b[49m = \u001b[32m10\u001b[39m\n\u001b[32m      4\u001b[39m \u001b[38;5;28mprint\u001b[39m (my_tuple)\n",
      "\u001b[31mTypeError\u001b[39m: 'tuple' object does not support item assignment"
     ]
    }
   ],
   "source": [
    "# example of tuple \n",
    "my_tuple = ( 1,2,3)\n",
    "my_tuple[0] = 10\n",
    "print (my_tuple)"
   ]
  },
  {
   "cell_type": "code",
   "execution_count": null,
   "id": "cdd7186d-34d4-4527-9d31-deccf07de64c",
   "metadata": {},
   "outputs": [],
   "source": [
    "Q7. What is the difference between “==” and “is” operators in Python  ?\n",
    "A: == Checks for - Value equality \n",
    "Meaning :-They have the same value.\n",
    "\n",
    "is Checks for - identity (same object) \n",
    "Meaning are thet the same object in the memory .\n",
    "\n",
    "Q8. 8 What are logical operators in Python ?\n",
    "A: Logical operators are used to combine multiple condition and return True or False value on the logic .\n",
    "\n",
    "Q9. What is type casting in Python ?\n",
    "A: The process of changing the data type of value in python . \n",
    "Example :-"
   ]
  },
  {
   "cell_type": "code",
   "execution_count": 3,
   "id": "e3eb54e5-6e40-4d12-bf35-30479d08259c",
   "metadata": {},
   "outputs": [
    {
     "data": {
      "text/plain": [
       "7"
      ]
     },
     "execution_count": 3,
     "metadata": {},
     "output_type": "execute_result"
    }
   ],
   "source": [
    "a = \" 2 \"\n",
    "b = 5\n",
    "int(a) + b"
   ]
  },
  {
   "cell_type": "code",
   "execution_count": null,
   "id": "96e8eaf3-d212-4568-a23e-5de9590b9ac7",
   "metadata": {},
   "outputs": [],
   "source": [
    "Q10. What is the difference between implicit and explicit type casting ?\n",
    "A: Implicit - python understand the datatype."
   ]
  },
  {
   "cell_type": "code",
   "execution_count": 4,
   "id": "ab1b40c9-b58d-4ad3-9a9a-38ccca58fc32",
   "metadata": {},
   "outputs": [
    {
     "data": {
      "text/plain": [
       "int"
      ]
     },
     "execution_count": 4,
     "metadata": {},
     "output_type": "execute_result"
    }
   ],
   "source": [
    "a = 5\n",
    "type (a)"
   ]
  },
  {
   "cell_type": "code",
   "execution_count": 5,
   "id": "d0acad92-2b91-4999-bcb4-ad4cff1b05b2",
   "metadata": {},
   "outputs": [
    {
     "data": {
      "text/plain": [
       "5"
      ]
     },
     "execution_count": 5,
     "metadata": {},
     "output_type": "execute_result"
    }
   ],
   "source": [
    "2 + 3"
   ]
  },
  {
   "cell_type": "code",
   "execution_count": null,
   "id": "029ca029-953b-489b-a618-33557e7ad50c",
   "metadata": {},
   "outputs": [],
   "source": [
    "Explicit - convert data type using inbuilt function  str, int, float, bool ."
   ]
  },
  {
   "cell_type": "code",
   "execution_count": 7,
   "id": "3e178627-d3a8-433e-b647-fc6192559814",
   "metadata": {},
   "outputs": [
    {
     "data": {
      "text/plain": [
       "str"
      ]
     },
     "execution_count": 7,
     "metadata": {},
     "output_type": "execute_result"
    }
   ],
   "source": [
    "a = \"2\"\n",
    "type(a)"
   ]
  },
  {
   "cell_type": "code",
   "execution_count": 8,
   "id": "64b16f33-6415-41af-844c-61423d205592",
   "metadata": {},
   "outputs": [
    {
     "data": {
      "text/plain": [
       "2"
      ]
     },
     "execution_count": 8,
     "metadata": {},
     "output_type": "execute_result"
    }
   ],
   "source": [
    "int(a)"
   ]
  },
  {
   "cell_type": "code",
   "execution_count": 9,
   "id": "c3f161db-b17e-4e8e-8e84-47541e8d962d",
   "metadata": {},
   "outputs": [
    {
     "data": {
      "text/plain": [
       "2.0"
      ]
     },
     "execution_count": 9,
     "metadata": {},
     "output_type": "execute_result"
    }
   ],
   "source": [
    "float(a)"
   ]
  },
  {
   "cell_type": "code",
   "execution_count": 10,
   "id": "98c68857-34c1-4702-ae46-4385651fdd94",
   "metadata": {},
   "outputs": [
    {
     "data": {
      "text/plain": [
       "True"
      ]
     },
     "execution_count": 10,
     "metadata": {},
     "output_type": "execute_result"
    }
   ],
   "source": [
    "bool(a)"
   ]
  },
  {
   "cell_type": "raw",
   "id": "cc723cfa-11c8-4250-80d1-56c40288d3ec",
   "metadata": {},
   "source": [
    "Q11.What is the purpose of conditional statements in Python ?\n",
    "A: Conditional statements are used to make decesion in your code thet let your program do different things based on different condition .\n",
    "Example :"
   ]
  },
  {
   "cell_type": "code",
   "execution_count": 12,
   "id": "e6a49780-c694-4ae9-a914-47b1c3f05bea",
   "metadata": {},
   "outputs": [
    {
     "name": "stdout",
     "output_type": "stream",
     "text": [
      " you can vote \n"
     ]
    }
   ],
   "source": [
    "age = 18\n",
    "if age >= 18:\n",
    "    print (\" you can vote \")\n",
    "else:\n",
    "    print(\"you can't vote\")"
   ]
  },
  {
   "cell_type": "code",
   "execution_count": null,
   "id": "3721755f-b253-4fd0-b3aa-c579f1701dec",
   "metadata": {},
   "outputs": [],
   "source": [
    "Q12. How does the elif statement work ?\n",
    "A: Python checks condition from top to bottom :\n",
    "- if the if is TRUE , it runs that block and skips the rest .\n",
    "- if not , it check the elif.\n",
    "- if not match , it rus the else .\n",
    "\n",
    "Q13. What is the difference between for and while loops ?\n",
    "A: For :- Used when how many times to repeat.\n",
    "    Example:"
   ]
  },
  {
   "cell_type": "code",
   "execution_count": 15,
   "id": "639ed83d-1334-4466-a770-5752234f3413",
   "metadata": {},
   "outputs": [
    {
     "name": "stdout",
     "output_type": "stream",
     "text": [
      "0\n",
      "1\n",
      "2\n",
      "3\n",
      "4\n",
      "5\n",
      "6\n",
      "7\n",
      "8\n",
      "9\n"
     ]
    }
   ],
   "source": [
    "for i in range(10):\n",
    "    print(i)"
   ]
  },
  {
   "cell_type": "code",
   "execution_count": null,
   "id": "51a1bebb-308c-48f7-8394-f9376d87af38",
   "metadata": {},
   "outputs": [],
   "source": []
  },
  {
   "cell_type": "raw",
   "id": "375423a9-7f29-47d6-ab7e-e1e13e50fe36",
   "metadata": {},
   "source": [
    "    While :- Used when you don't know how many times "
   ]
  },
  {
   "cell_type": "code",
   "execution_count": 17,
   "id": "08ade66d-ba6c-4e99-ab04-e5900c65edf8",
   "metadata": {},
   "outputs": [
    {
     "name": "stdout",
     "output_type": "stream",
     "text": [
      "0\n",
      "1\n",
      "2\n"
     ]
    }
   ],
   "source": [
    "x = 0\n",
    "while x < 3:\n",
    "    print(x)\n",
    "    x+=1"
   ]
  },
  {
   "cell_type": "raw",
   "id": "a5a14c68-8dc1-435c-8abe-9a6c0fdde8be",
   "metadata": {},
   "source": [
    "Q14.Describe a scenario where a while loop is more suitable than a for loop?\n",
    "A: Use a while loop you don't know how many times the looop should run - like asking a user for the correct password .\n"
   ]
  },
  {
   "cell_type": "code",
   "execution_count": 18,
   "id": "6e92072d-8f19-4ca6-ba17-49ed8722db08",
   "metadata": {},
   "outputs": [
    {
     "name": "stdin",
     "output_type": "stream",
     "text": [
      "Enter password: secret\n"
     ]
    },
    {
     "name": "stdout",
     "output_type": "stream",
     "text": [
      "Access granted! \n"
     ]
    }
   ],
   "source": [
    "password = \"\"\n",
    "while password != \"secret\":\n",
    "    password = input (\"Enter password:\")\n",
    "    print (\"Access granted! \")"
   ]
  },
  {
   "cell_type": "raw",
   "id": "a3c42fb6-b5be-4546-9afd-cea77a7ecf5b",
   "metadata": {},
   "source": [
    "                             PRACTICAL QUESTION "
   ]
  },
  {
   "cell_type": "code",
   "execution_count": 19,
   "id": "4285832c-583f-49b9-ba0f-1db96dbe5a01",
   "metadata": {},
   "outputs": [
    {
     "name": "stdout",
     "output_type": "stream",
     "text": [
      "Hello World \n"
     ]
    }
   ],
   "source": [
    "#Q1 . Write a Python program to print \"Hello, World! ?\n",
    "print(\"Hello World \")"
   ]
  },
  {
   "cell_type": "code",
   "execution_count": 24,
   "id": "9d9bb999-cad8-4650-a4a5-d28cf1f93cdd",
   "metadata": {},
   "outputs": [
    {
     "name": "stdout",
     "output_type": "stream",
     "text": [
      "My name is  Om\n",
      "my age is  23\n"
     ]
    }
   ],
   "source": [
    "#Q2 .Write a Python program that displays your name and age\n",
    "name = \"Om\"\n",
    "age = 23 \n",
    "print(\"My name is \", name)\n",
    "print(\"my age is \", 23)\n",
    "\n"
   ]
  },
  {
   "cell_type": "code",
   "execution_count": 25,
   "id": "be0540c1-ca71-4823-8691-b53f3d6456f5",
   "metadata": {},
   "outputs": [
    {
     "name": "stdout",
     "output_type": "stream",
     "text": [
      "['False', 'None', 'True', 'and', 'as', 'assert', 'async', 'await', 'break', 'class', 'continue', 'def', 'del', 'elif', 'else', 'except', 'finally', 'for', 'from', 'global', 'if', 'import', 'in', 'is', 'lambda', 'nonlocal', 'not', 'or', 'pass', 'raise', 'return', 'try', 'while', 'with', 'yield']\n"
     ]
    }
   ],
   "source": [
    "#Q3.Write code to print all the pre-defined keywords in Python using the keyword library\n",
    "\n",
    "import keyword\n",
    "print (keyword.kwlist)"
   ]
  },
  {
   "cell_type": "code",
   "execution_count": 26,
   "id": "e51d563b-a611-4123-9c5c-05ceffc46b68",
   "metadata": {},
   "outputs": [
    {
     "name": "stdin",
     "output_type": "stream",
     "text": [
      "Enter a word : if\n"
     ]
    },
    {
     "name": "stdout",
     "output_type": "stream",
     "text": [
      "'if' is a python keyword \n"
     ]
    }
   ],
   "source": [
    "#Q4.Write a program that checks if a given word is a Python keyword.\n",
    "import keyword\n",
    "word = input(\"Enter a word :\")\n",
    "\n",
    "if keyword.iskeyword(word):\n",
    "    print(f\"'{word}' is a python keyword \")\n",
    "else:\n",
    "    print(f\"'{word}' is Not a python keyword \")"
   ]
  },
  {
   "cell_type": "code",
   "execution_count": 32,
   "id": "3431f183-eac8-4880-96e9-3172f9c718c0",
   "metadata": {},
   "outputs": [
    {
     "name": "stdout",
     "output_type": "stream",
     "text": [
      "modified list: [10, 2, 3]\n"
     ]
    }
   ],
   "source": [
    "#Q5. Create a list and tuple in Python, and demonstrate how attempting to change an element works differently for each\n",
    "my_list = [1 , 2 , 3 ]\n",
    "my_list[0] = 10\n",
    "print(\"modified list:\",my_list)"
   ]
  },
  {
   "cell_type": "code",
   "execution_count": 33,
   "id": "9871229e-672d-4410-91cd-7e82ddd48e81",
   "metadata": {},
   "outputs": [
    {
     "ename": "TypeError",
     "evalue": "'tuple' object does not support item assignment",
     "output_type": "error",
     "traceback": [
      "\u001b[31m---------------------------------------------------------------------------\u001b[39m",
      "\u001b[31mTypeError\u001b[39m                                 Traceback (most recent call last)",
      "\u001b[36mCell\u001b[39m\u001b[36m \u001b[39m\u001b[32mIn[33]\u001b[39m\u001b[32m, line 2\u001b[39m\n\u001b[32m      1\u001b[39m my_tuple = ( \u001b[32m1\u001b[39m,\u001b[32m2\u001b[39m,\u001b[32m3\u001b[39m,\u001b[32m4\u001b[39m)\n\u001b[32m----> \u001b[39m\u001b[32m2\u001b[39m \u001b[43mmy_tuple\u001b[49m\u001b[43m[\u001b[49m\u001b[32;43m0\u001b[39;49m\u001b[43m]\u001b[49m = \u001b[32m10\u001b[39m\n\u001b[32m      3\u001b[39m \u001b[38;5;28mprint\u001b[39m(\u001b[33m\"\u001b[39m\u001b[33mmodified tuple :\u001b[39m\u001b[33m\"\u001b[39m, my_tuple)\n",
      "\u001b[31mTypeError\u001b[39m: 'tuple' object does not support item assignment"
     ]
    }
   ],
   "source": [
    "my_tuple = ( 1,2,3,4)\n",
    "my_tuple[0] = 10\n",
    "print(\"modified tuple :\", my_tuple)"
   ]
  },
  {
   "cell_type": "code",
   "execution_count": 38,
   "id": "edf5409f-def6-45ed-a7cd-f4c61d28eea7",
   "metadata": {},
   "outputs": [],
   "source": []
  },
  {
   "cell_type": "raw",
   "id": "3fc5e445-5bc3-451d-9ae9-b3dcc2cfbdb6",
   "metadata": {},
   "source": [
    "#Q6. Write a function to demonstrate the behavior of mutable and immutable arguments."
   ]
  },
  {
   "cell_type": "code",
   "execution_count": 40,
   "id": "f3d0755d-82bf-4d3d-982b-45d1b0963a5f",
   "metadata": {},
   "outputs": [
    {
     "name": "stdout",
     "output_type": "stream",
     "text": [
      "Inside function (list): [1, 2, 3, 100]\n",
      "Outside function (list): [1, 2, 3, 100]\n",
      "outside function (number): 5\n"
     ]
    }
   ],
   "source": [
    "def modify_list(my_list):\n",
    "    my_list.append(100)\n",
    "    print(\"Inside function (list):\", my_list)\n",
    "\n",
    "    def modify_number(num):\n",
    "        num+=10\n",
    "        print(\"Inside function (number):\", num)\n",
    "\n",
    "my_list = [1,2,3]\n",
    "my_number = 5\n",
    "\n",
    "modify_list(my_list)\n",
    "print (\"Outside function (list):\", my_list)\n",
    "print(\"outside function (number):\", my_number)\n",
    "        "
   ]
  },
  {
   "cell_type": "raw",
   "id": "c9d1f424-dacf-4f02-8b98-40c4e570d828",
   "metadata": {},
   "source": [
    "#Q7. Write a program that performs basic arithmetic operations on two user-input numbers."
   ]
  },
  {
   "cell_type": "code",
   "execution_count": 43,
   "id": "5daaadd1-c9df-48a0-85e8-1441885478a6",
   "metadata": {},
   "outputs": [
    {
     "name": "stdin",
     "output_type": "stream",
     "text": [
      "Enter first number : 10\n",
      "Enter second number : 5\n"
     ]
    },
    {
     "name": "stdout",
     "output_type": "stream",
     "text": [
      "Addition: 15.0\n",
      "Subtraction 5.0\n",
      "Multiplication 50.0\n",
      "Division: 2.0\n"
     ]
    }
   ],
   "source": [
    "num1 = float(input(\"Enter first number :\"))\n",
    "num2 = float(input(\"Enter second number :\"))\n",
    "\n",
    "print(\"Addition:\", num1 + num2)\n",
    "print(\"Subtraction\", num1- num2)\n",
    "print(\"Multiplication\", num1*num2)\n",
    "\n",
    "if num2!=0:\n",
    "    print(\"Division:\", num1 / num2)\n",
    "else:\n",
    "    print(\"Division: cannot divide by zero!\")"
   ]
  },
  {
   "cell_type": "raw",
   "id": "866c6bfc-8aef-472b-86a1-85997fb616eb",
   "metadata": {},
   "source": [
    "#Q8. Write a program to demonstrate the use of logical operators."
   ]
  },
  {
   "cell_type": "code",
   "execution_count": 44,
   "id": "edfc4fb9-71b5-4c09-9e31-381d579cfb87",
   "metadata": {},
   "outputs": [
    {
     "name": "stdin",
     "output_type": "stream",
     "text": [
      "Please enter your name OM\n",
      "Please enter your email guptaom23062001@gmail.com\n",
      "Please eneter your password om123\n"
     ]
    },
    {
     "name": "stdout",
     "output_type": "stream",
     "text": [
      "Login/registration is successfull\n"
     ]
    }
   ],
   "source": [
    "name = input(\"Please enter your name\")\n",
    "email = input(\"Please enter your email\")\n",
    "password = input(\"Please eneter your password\")\n",
    "\n",
    "if name == \"\":\n",
    "    print(\"Please enter a valid name, can not be empty\")\n",
    "else:\n",
    "    if \"@\" not in email:\n",
    "        print(\"Please enter a valid email\")\n",
    "    else:\n",
    "        if len(password) < 0:\n",
    "            print(\"No password entered, pls provide a valid password\")\n",
    "        else:\n",
    "            print(\"Login/registration is successfull\")"
   ]
  },
  {
   "cell_type": "raw",
   "id": "f5b2a7cb-ad6d-4bc4-939d-b96924757885",
   "metadata": {},
   "source": [
    "#Q9.Write a Python program to convert user input from string to integer, float, and boolean types."
   ]
  },
  {
   "cell_type": "code",
   "execution_count": 48,
   "id": "b539f0bd-3272-4e7f-bcd3-7101fd0e4ae6",
   "metadata": {},
   "outputs": [
    {
     "name": "stdin",
     "output_type": "stream",
     "text": [
      "enter a value : 55\n"
     ]
    },
    {
     "name": "stdout",
     "output_type": "stream",
     "text": [
      "Integer: 55\n",
      "float: 55.0\n",
      "Boolean: True\n"
     ]
    }
   ],
   "source": [
    "user_input = input(\"enter a value :\")\n",
    "\n",
    "try:\n",
    "    int_value = int(user_input)\n",
    "    print(\"Integer:\", int_value)\n",
    "except ValueError:\n",
    "    print(\"Invalid integer !\")\n",
    "\n",
    "try:\n",
    "    float_value = float(user_input)\n",
    "    print(\"float:\" , float_value)\n",
    "except ValueError:\n",
    "    print(\"Invalid integer !\")\n",
    "\n",
    "bool_value = bool(user_input)\n",
    "print(\"Boolean:\", bool_value)"
   ]
  },
  {
   "cell_type": "raw",
   "id": "47292126-f1ac-4a61-9285-392346aa2cdd",
   "metadata": {},
   "source": [
    "#Q10. Write code to demonstrate type casting with list elements."
   ]
  },
  {
   "cell_type": "code",
   "execution_count": 52,
   "id": "aeb8e549-87ca-4b49-9599-bca479e9d2f5",
   "metadata": {},
   "outputs": [
    {
     "name": "stdout",
     "output_type": "stream",
     "text": [
      "Integer list: [10, 20, 30]\n",
      " float list: [10.0, 20.0, 30.0]\n",
      " bool list: [True, True, True]\n"
     ]
    }
   ],
   "source": [
    "str_list = [ \"10\",\"20\",\"30\"]\n",
    "int_list= [int(x) for x in str_list]\n",
    "print(\"Integer list:\" , int_list)\n",
    "\n",
    "float_list = [float(x) for x in str_list]\n",
    "print(\" float list:\", float_list)\n",
    "\n",
    "bool_list = [bool(x) for x in str_list]\n",
    "print (\" bool list:\" ,bool_list)"
   ]
  },
  {
   "cell_type": "raw",
   "id": "84280975-34cc-44c4-a1fb-923096519428",
   "metadata": {},
   "source": [
    "#Q11.Write a program that checks if a number is positive, negative, or zero."
   ]
  },
  {
   "cell_type": "code",
   "execution_count": 53,
   "id": "97dbad44-368f-4eeb-9036-58049af41c06",
   "metadata": {},
   "outputs": [
    {
     "name": "stdin",
     "output_type": "stream",
     "text": [
      "enter a number: 25\n"
     ]
    },
    {
     "name": "stdout",
     "output_type": "stream",
     "text": [
      "the number is positive\n"
     ]
    }
   ],
   "source": [
    "num = float(input(\"enter a number:\"))\n",
    "if num>0:\n",
    "    print(\"the number is positive\")\n",
    "elif num<0:\n",
    "    print(\"the number is negative\")\n",
    "else:\n",
    "    print(\"the number is zero\")"
   ]
  },
  {
   "cell_type": "raw",
   "id": "8a821315-1c99-44be-bd8d-6951dcd458be",
   "metadata": {},
   "source": [
    "#Q12. Write a for loop to print numbers from 1 to 10."
   ]
  },
  {
   "cell_type": "code",
   "execution_count": 54,
   "id": "ff34ff05-22f5-4808-8645-005423eeae13",
   "metadata": {},
   "outputs": [
    {
     "name": "stdout",
     "output_type": "stream",
     "text": [
      "1\n",
      "2\n",
      "3\n",
      "4\n",
      "5\n",
      "6\n",
      "7\n",
      "8\n",
      "9\n",
      "10\n"
     ]
    }
   ],
   "source": [
    "for i in range ( 1 ,11):\n",
    "    print(i)"
   ]
  },
  {
   "cell_type": "raw",
   "id": "8f756201-70ea-4739-8c61-232c1b5b1cc0",
   "metadata": {},
   "source": [
    "#Q13.Write a Python program to find the sum of all even numbers between 1 and 50.\n"
   ]
  },
  {
   "cell_type": "code",
   "execution_count": 55,
   "id": "cf9a2f44-6b3f-45da-b5e4-e67f8b241811",
   "metadata": {},
   "outputs": [
    {
     "name": "stdout",
     "output_type": "stream",
     "text": [
      "sum of all the even number is 1 to  50 is : 2\n",
      "sum of all the even number is 1 to  50 is : 6\n",
      "sum of all the even number is 1 to  50 is : 12\n",
      "sum of all the even number is 1 to  50 is : 20\n",
      "sum of all the even number is 1 to  50 is : 30\n",
      "sum of all the even number is 1 to  50 is : 42\n",
      "sum of all the even number is 1 to  50 is : 56\n",
      "sum of all the even number is 1 to  50 is : 72\n",
      "sum of all the even number is 1 to  50 is : 90\n",
      "sum of all the even number is 1 to  50 is : 110\n",
      "sum of all the even number is 1 to  50 is : 132\n",
      "sum of all the even number is 1 to  50 is : 156\n",
      "sum of all the even number is 1 to  50 is : 182\n",
      "sum of all the even number is 1 to  50 is : 210\n",
      "sum of all the even number is 1 to  50 is : 240\n",
      "sum of all the even number is 1 to  50 is : 272\n",
      "sum of all the even number is 1 to  50 is : 306\n",
      "sum of all the even number is 1 to  50 is : 342\n",
      "sum of all the even number is 1 to  50 is : 380\n",
      "sum of all the even number is 1 to  50 is : 420\n",
      "sum of all the even number is 1 to  50 is : 462\n",
      "sum of all the even number is 1 to  50 is : 506\n",
      "sum of all the even number is 1 to  50 is : 552\n",
      "sum of all the even number is 1 to  50 is : 600\n",
      "sum of all the even number is 1 to  50 is : 650\n"
     ]
    }
   ],
   "source": [
    "total = 0\n",
    "for i in range( 1, 51):\n",
    "    if i % 2 ==0:\n",
    "        total+=i\n",
    "        print(\"sum of all the even number is 1 to  50 is :\", total)"
   ]
  },
  {
   "cell_type": "raw",
   "id": "769c24e6-d417-4145-bfbd-bc10b7f12597",
   "metadata": {},
   "source": [
    "#Q14. Write a program to reverse a string using a while loop."
   ]
  },
  {
   "cell_type": "code",
   "execution_count": 56,
   "id": "daca7733-dbf7-4a5a-8afa-9e3832107507",
   "metadata": {},
   "outputs": [
    {
     "name": "stdin",
     "output_type": "stream",
     "text": [
      "Enter a string: OM\n"
     ]
    },
    {
     "name": "stdout",
     "output_type": "stream",
     "text": [
      "Reversed string : M\n",
      "Reversed string : MO\n"
     ]
    }
   ],
   "source": [
    "text = input(\"Enter a string:\")\n",
    "reversed_text = \"\"\n",
    "index = len (text) - 1\n",
    "while index >=0:\n",
    "    reversed_text += text [index]\n",
    "    index-= 1\n",
    "    print(\"Reversed string :\" , reversed_text)\n",
    "    "
   ]
  },
  {
   "cell_type": "raw",
   "id": "e6a58810-c06d-43b0-bb48-5e68372b4742",
   "metadata": {},
   "source": [
    "#Q15.Write a Python program to calculate the factorial of a number provided by the user using a while loop."
   ]
  },
  {
   "cell_type": "code",
   "execution_count": 60,
   "id": "69fd54d8-0c6f-4690-91f4-b12d5992e4ab",
   "metadata": {},
   "outputs": [
    {
     "name": "stdin",
     "output_type": "stream",
     "text": [
      "Enter the number : 5\n"
     ]
    },
    {
     "name": "stdout",
     "output_type": "stream",
     "text": [
      "Factorial of  5 is: 1\n",
      "Factorial of  5 is: 1\n",
      "Factorial of  5 is: 1\n",
      "Factorial of  5 is: 1\n",
      "Factorial of  5 is: 1\n"
     ]
    }
   ],
   "source": [
    "num = int(input(\"Enter the number :\"))\n",
    "factorial = 1\n",
    "i = 1\n",
    "while i <= num:\n",
    "    factorial = factorial * 1\n",
    "    i = i + 1\n",
    "    print (\"Factorial of \" , num , \"is:\", factorial )"
   ]
  },
  {
   "cell_type": "code",
   "execution_count": null,
   "id": "e01d57bd-4abb-4b75-8f48-cd748a42fd60",
   "metadata": {},
   "outputs": [],
   "source": []
  }
 ],
 "metadata": {
  "kernelspec": {
   "display_name": "Python 3 (ipykernel)",
   "language": "python",
   "name": "python3"
  },
  "language_info": {
   "codemirror_mode": {
    "name": "ipython",
    "version": 3
   },
   "file_extension": ".py",
   "mimetype": "text/x-python",
   "name": "python",
   "nbconvert_exporter": "python",
   "pygments_lexer": "ipython3",
   "version": "3.13.3"
  }
 },
 "nbformat": 4,
 "nbformat_minor": 5
}
